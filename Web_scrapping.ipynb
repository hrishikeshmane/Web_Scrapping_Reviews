{
  "nbformat": 4,
  "nbformat_minor": 0,
  "metadata": {
    "colab": {
      "name": "Web_scrapping.ipynb",
      "version": "0.3.2",
      "provenance": [],
      "collapsed_sections": [],
      "include_colab_link": true
    },
    "kernelspec": {
      "name": "python3",
      "display_name": "Python 3"
    }
  },
  "cells": [
    {
      "cell_type": "markdown",
      "metadata": {
        "id": "view-in-github",
        "colab_type": "text"
      },
      "source": [
        "<a href=\"https://colab.research.google.com/github/hrishikeshmane/Web_Scrapping_Reviews/blob/master/Web_scrapping.ipynb\" target=\"_parent\"><img src=\"https://colab.research.google.com/assets/colab-badge.svg\" alt=\"Open In Colab\"/></a>"
      ]
    },
    {
      "metadata": {
        "id": "oJ1g6DNrqpgR",
        "colab_type": "code",
        "colab": {}
      },
      "cell_type": "code",
      "source": [
        "amazon=\"https://www.amazon.in/Redmi-Note-Pro-Gold-Storage/product-reviews/B07BJZJWBK/ref=cm_cr_dp_d_show_all_top?ie=UTF8&reviewerType=all_reviews\"\n",
        "flipkart=\"https://www.flipkart.com/redmi-note-5-pro-gold-64-gb/product-reviews/itmf2fc3bknfqpkj?pid=MOBF28FTVG9GMYQM\""
      ],
      "execution_count": 0,
      "outputs": []
    },
    {
      "metadata": {
        "id": "Mb8jeNfSrXkZ",
        "colab_type": "code",
        "colab": {}
      },
      "cell_type": "code",
      "source": [
        "product=\"Redmi Note 5 Pro (Gold, 64 GB)\""
      ],
      "execution_count": 0,
      "outputs": []
    },
    {
      "metadata": {
        "id": "QSIDE20Ard8v",
        "colab_type": "code",
        "outputId": "19b67e8b-2831-49c6-dfcf-d2f99cfd91e2",
        "colab": {
          "base_uri": "https://localhost:8080/",
          "height": 36
        }
      },
      "cell_type": "code",
      "source": [
        "!pip install BeautifulSoup4"
      ],
      "execution_count": 0,
      "outputs": [
        {
          "output_type": "stream",
          "text": [
            "Requirement already satisfied: BeautifulSoup4 in /usr/local/lib/python3.6/dist-packages (4.6.3)\n"
          ],
          "name": "stdout"
        }
      ]
    },
    {
      "metadata": {
        "id": "3PaSjb8dr3lZ",
        "colab_type": "code",
        "colab": {}
      },
      "cell_type": "code",
      "source": [
        "import requests\n",
        "import urllib.request\n",
        "import time\n",
        "from bs4 import BeautifulSoup"
      ],
      "execution_count": 0,
      "outputs": []
    },
    {
      "metadata": {
        "id": "ZpOmBnCZr_Am",
        "colab_type": "code",
        "colab": {}
      },
      "cell_type": "code",
      "source": [
        "page = urllib.request.urlopen(amazon)"
      ],
      "execution_count": 0,
      "outputs": []
    },
    {
      "metadata": {
        "id": "4g9ALwMGsxTA",
        "colab_type": "code",
        "colab": {}
      },
      "cell_type": "code",
      "source": [
        "soup = BeautifulSoup(page) # body at line 183\n",
        "# 1302 and 1190 1st review by Sriniketan and review on 1303 <span data-hook=\"review-body\" <div class=\"a-row a-spacing-small review-data\">"
      ],
      "execution_count": 0,
      "outputs": []
    },
    {
      "metadata": {
        "id": "Qj5Dpun4s37o",
        "colab_type": "code",
        "colab": {}
      },
      "cell_type": "code",
      "source": [
        "body =soup.body"
      ],
      "execution_count": 0,
      "outputs": []
    },
    {
      "metadata": {
        "id": "kYKk_hHW1B7N",
        "colab_type": "code",
        "colab": {}
      },
      "cell_type": "code",
      "source": [
        "reviews=[]"
      ],
      "execution_count": 0,
      "outputs": []
    },
    {
      "metadata": {
        "id": "yquERlRcuD9B",
        "colab_type": "code",
        "outputId": "9da5f9bb-a804-42f2-a397-b283ccc5678a",
        "colab": {
          "base_uri": "https://localhost:8080/",
          "height": 780
        }
      },
      "cell_type": "code",
      "source": [
        "for i in body.find_all('div',class_=\"a-row a-spacing-small review-data\"):\n",
        "  print (i.text)\n",
        "  print(\"\\n\")\n",
        "  reviews.append(i.text)"
      ],
      "execution_count": 0,
      "outputs": [
        {
          "output_type": "stream",
          "text": [
            "Don't ever buy Redmi mobile,  I purchased it 3 weeks back and there is problem in the display.  Company is not even replacing the product now.  Entire money gine waste.  Don't ever buy any of the Redmi mobiles\n",
            "\n",
            "\n",
            "\n",
            "It’s mentioned that there is FREE: Headphone + Noosy Pin + 2 pin 3.5mm Audio Jack + OTG + 3.5mm Speed Cable. But other than Noosy PIN, there was no Headphones or OTG Cable.\n",
            "\n",
            "\n",
            "\n",
            "Value for money yes 100% I can say,Superb phone ordered it on the 29th and got the phone the next day, I was sacred to open the box cause of the bad reviews after opening the box I'm satisfied, thank u amazon😊😊 well I haven't used the phone as its a gift\n",
            "\n",
            "\n",
            "\n",
            "Accessories that were promised were not delivered. The parcel contains only the phone, the charger and the sim ejector pin.\n",
            "\n",
            "\n",
            "\n",
            "The volume key has stuck inside the phone, and unable to use it. Its Kind of Bend. I have checked on internet and saw so many similar cases. It has to rectify while manufacturing itself. I have raised case replacement but the process is like painful. Technician will take 5 to 7 working days to visit you to see the issue, once he sends the report to seller then they will proceed for replacement. The whole process takes 20 days approx or even more it seems. Mean while I booked this via No cost EMI offer, Now that also getting affected like once you raise replacement case, the Initial contact with back will be terminated and  for that bank will charge some money it seems. And again new contract will be made for new order or replacement. Even though issue was from seller, customer also need to suffer. Its very Bad!!\n",
            "\n",
            "\n",
            "\n",
            "I got this mobile 15 days back. Now I am facing issues with this mobile. I need a replacement for this defective product. Whom should I contact for replacement ?\n",
            "\n",
            "\n",
            "\n",
            "Problem - 1. even in full call volume, the sound is not clearly audible2. Sometimes hotspot doesn't work properly3. Note6 pro is launched at lower prices with higher features!!!Good - screen, battery, processor, camera all are great except above\n",
            "\n",
            "\n",
            "\n",
            "This phone to be bad not touch work thisPhone touch not work\n",
            "\n",
            "\n",
            "\n",
            "When I got the box, clear soft case(is missing) in the box, although it's mentioned on the box. I have attached the pic of the box. This is ridiculous for cost cutting, they are reducing the in-box accessories. Overall phone is good with camera and performance.\n",
            "\n",
            "\n",
            "\n",
            "Good & Amazing phone!!!\n",
            "\n",
            "\n",
            "\n"
          ],
          "name": "stdout"
        }
      ]
    },
    {
      "metadata": {
        "id": "SGJDZo1tyoMq",
        "colab_type": "code",
        "outputId": "e0e72b9d-bdd8-49dc-d023-ebad4fd64215",
        "colab": {
          "base_uri": "https://localhost:8080/",
          "height": 223
        }
      },
      "cell_type": "code",
      "source": [
        "reviews #need to remove '\\n' from the reviews"
      ],
      "execution_count": 0,
      "outputs": [
        {
          "output_type": "execute_result",
          "data": {
            "text/plain": [
              "[\"Don't ever buy Redmi mobile,  I purchased it 3 weeks back and there is problem in the display.  Company is not even replacing the product now.  Entire money gine waste.  Don't ever buy any of the Redmi mobiles\\n\",\n",
              " 'It’s mentioned that there is FREE: Headphone + Noosy Pin + 2 pin 3.5mm Audio Jack + OTG + 3.5mm Speed Cable. But other than Noosy PIN, there was no Headphones or OTG Cable.\\n',\n",
              " \"Value for money yes 100% I can say,Superb phone ordered it on the 29th and got the phone the next day, I was sacred to open the box cause of the bad reviews after opening the box I'm satisfied, thank u amazon😊😊 well I haven't used the phone as its a gift\\n\",\n",
              " 'Accessories that were promised were not delivered. The parcel contains only the phone, the charger and the sim ejector pin.\\n',\n",
              " 'The volume key has stuck inside the phone, and unable to use it. Its Kind of Bend. I have checked on internet and saw so many similar cases. It has to rectify while manufacturing itself. I have raised case replacement but the process is like painful. Technician will take 5 to 7 working days to visit you to see the issue, once he sends the report to seller then they will proceed for replacement. The whole process takes 20 days approx or even more it seems. Mean while I booked this via No cost EMI offer, Now that also getting affected like once you raise replacement case, the Initial contact with back will be terminated and  for that bank will charge some money it seems. And again new contract will be made for new order or replacement. Even though issue was from seller, customer also need to suffer. Its very Bad!!\\n',\n",
              " 'I got this mobile 15 days back. Now I am facing issues with this mobile. I need a replacement for this defective product. Whom should I contact for replacement ?\\n',\n",
              " \"Problem - 1. even in full call volume, the sound is not clearly audible2. Sometimes hotspot doesn't work properly3. Note6 pro is launched at lower prices with higher features!!!Good - screen, battery, processor, camera all are great except above\\n\",\n",
              " 'This phone to be bad not touch work thisPhone touch not work\\n',\n",
              " \"When I got the box, clear soft case(is missing) in the box, although it's mentioned on the box. I have attached the pic of the box. This is ridiculous for cost cutting, they are reducing the in-box accessories. Overall phone is good with camera and performance.\\n\",\n",
              " 'Good & Amazing phone!!!\\n']"
            ]
          },
          "metadata": {
            "tags": []
          },
          "execution_count": 30
        }
      ]
    },
    {
      "metadata": {
        "id": "M3svaPrr-rE0",
        "colab_type": "code",
        "colab": {}
      },
      "cell_type": "code",
      "source": [
        "for i in body.find_all('div',class_=\"a-text-center celwidget a-text-base\"):\n",
        "  p=i.get('li')"
      ],
      "execution_count": 0,
      "outputs": []
    },
    {
      "metadata": {
        "id": "ac9sztwMBUrg",
        "colab_type": "code",
        "outputId": "6f5a48b6-a801-49f0-ba3b-6a1846d054a5",
        "colab": {
          "base_uri": "https://localhost:8080/",
          "height": 36
        }
      },
      "cell_type": "code",
      "source": [
        "print(p)"
      ],
      "execution_count": 0,
      "outputs": [
        {
          "output_type": "stream",
          "text": [
            "None\n"
          ],
          "name": "stdout"
        }
      ]
    },
    {
      "metadata": {
        "id": "R7eVer6c-1tn",
        "colab_type": "code",
        "outputId": "3fa2f014-18d3-4bdd-f77b-72c9219cf689",
        "colab": {
          "base_uri": "https://localhost:8080/",
          "height": 36
        }
      },
      "cell_type": "code",
      "source": [
        "type(p)"
      ],
      "execution_count": 0,
      "outputs": [
        {
          "output_type": "execute_result",
          "data": {
            "text/plain": [
              "NoneType"
            ]
          },
          "metadata": {
            "tags": []
          },
          "execution_count": 71
        }
      ]
    },
    {
      "metadata": {
        "id": "89MC_lEE-4_2",
        "colab_type": "code",
        "colab": {}
      },
      "cell_type": "code",
      "source": [
        "# if NoneType then stop iterating "
      ],
      "execution_count": 0,
      "outputs": []
    },
    {
      "metadata": {
        "id": "snqtAJLL1Osb",
        "colab_type": "code",
        "outputId": "2b40746c-a0f3-44ba-c178-3b7ceab889ac",
        "colab": {
          "base_uri": "https://localhost:8080/",
          "height": 73
        }
      },
      "cell_type": "code",
      "source": [
        "for i in body.find_all('div',class_=\"a-text-center celwidget a-text-base\"):\n",
        "  #print (i)\n",
        "  for j in i.find_all('a'):\n",
        "    print (j.get('href'))\n",
        "    nextpage=j.get('href')\n",
        "  print(\"\\n\")"
      ],
      "execution_count": 0,
      "outputs": [
        {
          "output_type": "stream",
          "text": [
            "/Redmi-Note-Pro-Gold-Storage/product-reviews/B07BJZJWBK?pageNumber=2&reviewerType=all_reviews\n",
            "\n",
            "\n"
          ],
          "name": "stdout"
        }
      ]
    },
    {
      "metadata": {
        "id": "WbTvCw442nfb",
        "colab_type": "code",
        "outputId": "c6eda4f2-d7ce-442a-8da4-77d005b7e848",
        "colab": {
          "base_uri": "https://localhost:8080/",
          "height": 780
        }
      },
      "cell_type": "code",
      "source": [
        "link=\"https://www.amazon.in\"+nextpage\n",
        "page2 = urllib.request.urlopen(link)\n",
        "soup = BeautifulSoup(page2)\n",
        "body =soup.body\n",
        "\n",
        "for i in body.find_all('div',class_=\"a-row a-spacing-small review-data\"):\n",
        "  print (i.text)\n",
        "  print(\"\\n\")"
      ],
      "execution_count": 0,
      "outputs": [
        {
          "output_type": "stream",
          "text": [
            "This mobile is super because of the processor and some more internal features and cake\n",
            "\n",
            "\n",
            "\n",
            "The screen shows vertical lines.\n",
            "\n",
            "\n",
            "\n",
            "Good\n",
            "\n",
            "\n",
            "\n",
            "Front camera is great but the main camera is just good enough for me.. I'd say 3.5 out of 5 because though it takes good quality pictures, they aren't crispy and zoom-able enough to satisfy me.I previously used galaxy Note 4 and its camera was freaking awesome.But for 14999, this is the best you can get.Fast fingerprint sensor and face detection + 6GB RAM at just 14999 is worth it. Battery is great too though it takes a little longer to charge.Im very happy and satisfied with this product. The predictive text function of this phone is so good that it makes me feel like it knows what's on my mind.The product was delivered as orderd without any scratches nor problems though it took 5 days to deliver.Sound system is not so great but good enough for me.I wish there was a dedicated SD card slot rather than a hybrid sim slot.I highly recommend this phone. It's super smooth, runs like butter, fast, cheap and very reliable.\n",
            "\n",
            "\n",
            "\n",
            "It is a utility phone with good front cameraNothing exceptionalNot bad for daily useI am mainly disappointed by the colourI felt like breaking out of my usual choices but the \"pink red\" shade has proven me wrongIt tilts more towards red but you keep getting hints of pink in the colourDoesn't suite my tasteAnd they don't allow replacement if you don't like the colour\n",
            "\n",
            "\n",
            "\n",
            "I do not receive headphones.\n",
            "\n",
            "\n",
            "\n",
            "It's awesome... Very nice..best ever !!\n",
            "\n",
            "\n",
            "\n",
            "Very good\n",
            "\n",
            "\n",
            "\n",
            "Nice look,nice battery backup..Excellent performance.. recommending u all to buy 😎\n",
            "\n",
            "\n",
            "\n",
            "Red colour is not at all same as shown in pic... its too glossy... did not like it.... phone is good... camera is good.... did not receive head phones\n",
            "\n",
            "\n",
            "\n"
          ],
          "name": "stdout"
        }
      ]
    },
    {
      "metadata": {
        "id": "EgeIJD18FGMT",
        "colab_type": "code",
        "outputId": "7583a1f6-2225-4f44-e1cc-0657dd4f68d9",
        "colab": {
          "base_uri": "https://localhost:8080/",
          "height": 74
        }
      },
      "cell_type": "code",
      "source": [
        "for i in body.find_all('div',class_=\"a-text-center celwidget a-text-base\"):\n",
        "  print (i)\n",
        "  for j in i.find_all('a'):\n",
        "    #print (j.get('href'))\n",
        "    nextpage=j.get('href')\n",
        "  next_page=nextpage\n",
        "  print(next_page)"
      ],
      "execution_count": 0,
      "outputs": [
        {
          "output_type": "stream",
          "text": [
            "<div class=\"a-text-center celwidget a-text-base\" data-hook=\"pagination-bar\" data-reftag=\"cm_cr_arp_d_paging_btm\" id=\"cm_cr-pagination_bar\"><ul class=\"a-pagination\"><li><a href=\"/Redmi-Note-Pro-Gold-Storage/product-reviews/B07BJZJWBK?reviewerType=all_reviews\">←<span class=\"a-letter-space\"></span><span class=\"a-letter-space\"></span>Previous page</a></li><li class=\"a-last\"><a href=\"/Redmi-Note-Pro-Gold-Storage/product-reviews/B07BJZJWBK?pageNumber=3&amp;reviewerType=all_reviews\">Next page<span class=\"a-letter-space\"></span><span class=\"a-letter-space\"></span>→</a></li></ul></div>\n",
            "/Redmi-Note-Pro-Gold-Storage/product-reviews/B07BJZJWBK?pageNumber=3&reviewerType=all_reviews\n"
          ],
          "name": "stdout"
        }
      ]
    },
    {
      "metadata": {
        "id": "6mbefYK2FziY",
        "colab_type": "code",
        "outputId": "5df7a63c-8a55-4f66-f788-400d886e8e72",
        "colab": {
          "base_uri": "https://localhost:8080/",
          "height": 56
        }
      },
      "cell_type": "code",
      "source": [
        "for i in body.find_all('div',class_=\"a-text-center celwidget a-text-base\"):\n",
        "  for j in i.find_all('li',class_=\"a-last\"):\n",
        "    print(j)"
      ],
      "execution_count": 0,
      "outputs": [
        {
          "output_type": "stream",
          "text": [
            "<li class=\"a-last\"><a href=\"/Redmi-Note-Pro-Gold-Storage/product-reviews/B07BJZJWBK?pageNumber=3&amp;reviewerType=all_reviews\">Next page<span class=\"a-letter-space\"></span><span class=\"a-letter-space\"></span>→</a></li>\n"
          ],
          "name": "stdout"
        }
      ]
    },
    {
      "metadata": {
        "id": "TeXfF3jLfomC",
        "colab_type": "text"
      },
      "cell_type": "markdown",
      "source": [
        "### Flipkart Scrapping"
      ]
    },
    {
      "metadata": {
        "id": "4AUrXYx3fr-Y",
        "colab_type": "code",
        "colab": {}
      },
      "cell_type": "code",
      "source": [
        "pagef = urllib.request.urlopen(flipkart)\n",
        "soupf = BeautifulSoup(pagef) \n",
        "body =soupf.body\n",
        "\n",
        "reviewsf=[]"
      ],
      "execution_count": 0,
      "outputs": []
    },
    {
      "metadata": {
        "id": "hiRzU8j_f2zO",
        "colab_type": "code",
        "outputId": "763f77fd-bdb4-4caf-c924-b0e1d9793fb8",
        "colab": {
          "base_uri": "https://localhost:8080/",
          "height": 223
        }
      },
      "cell_type": "code",
      "source": [
        "#112 - super mobile\n",
        "for i in body.find_all('div',class_=\"qwjRop\"):\n",
        "  print (i.text)\n",
        "  #need to remove 'READ MORE from text'\n"
      ],
      "execution_count": 0,
      "outputs": [
        {
          "output_type": "stream",
          "text": [
            "super mobileREAD MORE\n",
            "Awesome mobile quality is awesome and camera no words perfect and the mobile case perfectly fit thanks Flipkart thanks Xiaomi redmiREAD MORE\n",
            "camera and perfomance superb ✌️ 4month used😍READ MORE\n",
            "6gb ram is awesomeREAD MORE\n",
            "awesome cameraREAD MORE\n",
            "Shot on dual cameraREAD MORE\n",
            "goodREAD MORE\n",
            "Outstanding CameraREAD MORE\n",
            "So, I have used this mobile for about 3 weeks and here's what i have to sayFirst will go with thePros:1. Front camera is Simply Fabulous (Safe to say better than One plus 5-t , And As good as S9+) *Tested before conclusion*2. Good processing speed.3. Handles most of high graphic online games.4. Good for watching movies,YouTube and Surfing web, Social media.5. Doesnt heat up like previous xiaomi devices.6. Potrait mode is simply awesome in good lighting conditions.7. Good Network cat...READ MORE\n",
            "the best phone someone can buy ... simply no word... gifted by my husband.... thanks Flipkart and husband ji....READ MORE\n"
          ],
          "name": "stdout"
        }
      ]
    },
    {
      "metadata": {
        "id": "fhHD3I_oiD1w",
        "colab_type": "code",
        "outputId": "1860f64e-205a-49dc-9cb5-c05b79606399",
        "colab": {
          "base_uri": "https://localhost:8080/",
          "height": 36
        }
      },
      "cell_type": "code",
      "source": [
        "for i in body.find_all('div', class_=\"_2zg3yZ\"):\n",
        "  for j in i.find_all('a'):\n",
        "    linkf=j.get('href')\n",
        "print (linkf)"
      ],
      "execution_count": 0,
      "outputs": [
        {
          "output_type": "stream",
          "text": [
            "/redmi-note-5-pro-gold-64-gb/product-reviews/itmf2fc3bknfqpkj?pid=MOBF28FTVG9GMYQM&page=2\n"
          ],
          "name": "stdout"
        }
      ]
    },
    {
      "metadata": {
        "id": "6d-t2KTqRyyZ",
        "colab_type": "code",
        "outputId": "bddb541a-e1f2-408a-a5c2-714b84a2e469",
        "colab": {
          "base_uri": "https://localhost:8080/",
          "height": 36
        }
      },
      "cell_type": "code",
      "source": [
        "linkf=\"https://www.flipkart.com\"+linkf\n",
        "linkf"
      ],
      "execution_count": 0,
      "outputs": [
        {
          "output_type": "execute_result",
          "data": {
            "text/plain": [
              "'https://www.flipkart.com/redmi-note-5-pro-gold-64-gb/product-reviews/itmf2fc3bknfqpkj?pid=MOBF28FTVG9GMYQM&page=2'"
            ]
          },
          "metadata": {
            "tags": []
          },
          "execution_count": 12
        }
      ]
    },
    {
      "metadata": {
        "id": "BwEX5xBCSyFS",
        "colab_type": "code",
        "outputId": "56a3d059-c3dd-4b4c-f563-b439c0c5ed2e",
        "colab": {
          "base_uri": "https://localhost:8080/",
          "height": 223
        }
      },
      "cell_type": "code",
      "source": [
        "for i in body.find_all('div',class_=\"qwjRop\"):\n",
        "  print (i)"
      ],
      "execution_count": 0,
      "outputs": [
        {
          "output_type": "stream",
          "text": [
            "<div class=\"qwjRop\"><div><div class=\"\">super mobile</div><span class=\"_2jRR3v\"><span>READ MORE</span></span></div></div>\n",
            "<div class=\"qwjRop\"><div><div class=\"\">Awesome mobile quality is awesome and camera no words perfect and the mobile case perfectly fit thanks Flipkart thanks Xiaomi redmi</div><span class=\"_2jRR3v\"><span>READ MORE</span></span></div></div>\n",
            "<div class=\"qwjRop\"><div><div class=\"\">camera and perfomance superb ✌️ 4month used😍</div><span class=\"_2jRR3v\"><span>READ MORE</span></span></div></div>\n",
            "<div class=\"qwjRop\"><div><div class=\"\">6gb ram is awesome</div><span class=\"_2jRR3v\"><span>READ MORE</span></span></div></div>\n",
            "<div class=\"qwjRop\"><div><div class=\"\">awesome camera</div><span class=\"_2jRR3v\"><span>READ MORE</span></span></div></div>\n",
            "<div class=\"qwjRop\"><div><div class=\"\">Shot on dual camera</div><span class=\"_2jRR3v\"><span>READ MORE</span></span></div></div>\n",
            "<div class=\"qwjRop\"><div><div class=\"\">good</div><span class=\"_2jRR3v\"><span>READ MORE</span></span></div></div>\n",
            "<div class=\"qwjRop\"><div><div class=\"\">Outstanding Camera</div><span class=\"_2jRR3v\"><span>READ MORE</span></span></div></div>\n",
            "<div class=\"qwjRop\"><div><div class=\"\">So, I have used this mobile for about 3 weeks and here's what i have to say<br/><br/>First will go with the<br/>Pros:<br/>1. Front camera is Simply Fabulous (Safe to say better than One plus 5-t , And As good as S9+) *Tested before conclusion*<br/>2. Good processing speed.<br/>3. Handles most of high graphic online games.<br/>4. Good for watching movies,YouTube and Surfing web, Social media.<br/>5. Doesnt heat up like previous xiaomi devices.<br/>6. Potrait mode is simply awesome in good lighting conditions.<br/>7. Good Network cat...</div><span class=\"_1EPkIx\"><span>READ MORE</span></span></div></div>\n",
            "<div class=\"qwjRop\"><div><div class=\"\">the best phone someone can buy ... simply no word... gifted by my husband.... thanks Flipkart and husband ji....</div><span class=\"_2jRR3v\"><span>READ MORE</span></span></div></div>\n"
          ],
          "name": "stdout"
        }
      ]
    },
    {
      "metadata": {
        "id": "RYJlhgo6TruN",
        "colab_type": "code",
        "colab": {}
      },
      "cell_type": "code",
      "source": [
        ""
      ],
      "execution_count": 0,
      "outputs": []
    }
  ]
}